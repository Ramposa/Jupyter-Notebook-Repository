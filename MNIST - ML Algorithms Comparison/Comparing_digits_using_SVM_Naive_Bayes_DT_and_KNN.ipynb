{
 "cells": [
  {
   "cell_type": "markdown",
   "id": "ddabb6a0",
   "metadata": {},
   "source": [
    "<h1>Comparing Digits using SVM, Naive Bayes, DT & KNN</h1>\n",
    "<h2>Dataset</h2>\n",
    "Dataset will be imported from Sklearn's dataset (https://scikit-learn.org/stable/modules/generated/sklearn.datasets.load_digits.html)."
   ]
  },
  {
   "cell_type": "code",
   "execution_count": 1,
   "id": "98e4d879",
   "metadata": {},
   "outputs": [],
   "source": [
    "import time    # this is an inbuilt library in Python\n",
    "from sklearn.datasets import load_digits\n",
    "digits = load_digits()"
   ]
  },
  {
   "cell_type": "markdown",
   "id": "840956af",
   "metadata": {},
   "source": [
    "Load_digits contains 64 features and 1797 sample data."
   ]
  },
  {
   "cell_type": "code",
   "execution_count": 2,
   "id": "a1ab09ae",
   "metadata": {},
   "outputs": [
    {
     "name": "stdout",
     "output_type": "stream",
     "text": [
      ".. _digits_dataset:\n",
      "\n",
      "Optical recognition of handwritten digits dataset\n",
      "--------------------------------------------------\n",
      "\n",
      "**Data Set Characteristics:**\n",
      "\n",
      "    :Number of Instances: 1797\n",
      "    :Number of Attributes: 64\n",
      "    :Attribute Information: 8x8 image of integer pixels in the range 0..16.\n",
      "    :Missing Attribute Values: None\n",
      "    :Creator: E. Alpaydin (alpaydin '@' boun.edu.tr)\n",
      "    :Date: July; 1998\n",
      "\n",
      "This is a copy of the test set of the UCI ML hand-written digits datasets\n",
      "https://archive.ics.uci.edu/ml/datasets/Optical+Recognition+of+Handwritten+Digits\n",
      "\n",
      "The data set contains images of hand-written digits: 10 classes where\n",
      "each class refers to a digit.\n",
      "\n",
      "Preprocessing programs made available by NIST were used to extract\n",
      "normalized bitmaps of handwritten digits from a preprinted form. From a\n",
      "total of 43 people, 30 contributed to the training set and different 13\n",
      "to the test set. 32x32 bitmaps are divided into nonoverlapping blocks of\n",
      "4x4 and the number of on pixels are counted in each block. This generates\n",
      "an input matrix of 8x8 where each element is an integer in the range\n",
      "0..16. This reduces dimensionality and gives invariance to small\n",
      "distortions.\n",
      "\n",
      "For info on NIST preprocessing routines, see M. D. Garris, J. L. Blue, G.\n",
      "T. Candela, D. L. Dimmick, J. Geist, P. J. Grother, S. A. Janet, and C.\n",
      "L. Wilson, NIST Form-Based Handprint Recognition System, NISTIR 5469,\n",
      "1994.\n",
      "\n",
      ".. topic:: References\n",
      "\n",
      "  - C. Kaynak (1995) Methods of Combining Multiple Classifiers and Their\n",
      "    Applications to Handwritten Digit Recognition, MSc Thesis, Institute of\n",
      "    Graduate Studies in Science and Engineering, Bogazici University.\n",
      "  - E. Alpaydin, C. Kaynak (1998) Cascading Classifiers, Kybernetika.\n",
      "  - Ken Tang and Ponnuthurai N. Suganthan and Xi Yao and A. Kai Qin.\n",
      "    Linear dimensionalityreduction using relevance weighted LDA. School of\n",
      "    Electrical and Electronic Engineering Nanyang Technological University.\n",
      "    2005.\n",
      "  - Claudio Gentile. A New Approximate Maximal Margin Classification\n",
      "    Algorithm. NIPS. 2000.\n",
      "\n"
     ]
    }
   ],
   "source": [
    "print(digits.DESCR)"
   ]
  },
  {
   "cell_type": "code",
   "execution_count": 3,
   "id": "62cca32b",
   "metadata": {
    "scrolled": true
   },
   "outputs": [
    {
     "data": {
      "text/plain": [
       "(1797, 64)"
      ]
     },
     "execution_count": 3,
     "metadata": {},
     "output_type": "execute_result"
    }
   ],
   "source": [
    "digits.data.shape"
   ]
  },
  {
   "cell_type": "code",
   "execution_count": 4,
   "id": "cd376cbd",
   "metadata": {},
   "outputs": [
    {
     "data": {
      "text/plain": [
       "(1797,)"
      ]
     },
     "execution_count": 4,
     "metadata": {},
     "output_type": "execute_result"
    }
   ],
   "source": [
    "digits.target.shape"
   ]
  },
  {
   "cell_type": "markdown",
   "id": "31f4abc7",
   "metadata": {},
   "source": [
    "An 8*8 image which the array corresponds to the pixel, the 0 represents a black pixel and the higher the number the less black on the pixel. You can see the text compare to the image."
   ]
  },
  {
   "cell_type": "code",
   "execution_count": 5,
   "id": "7b29d57e",
   "metadata": {
    "scrolled": true
   },
   "outputs": [
    {
     "name": "stdout",
     "output_type": "stream",
     "text": [
      "[[ 0.  0.  5. 13.  9.  1.  0.  0.]\n",
      " [ 0.  0. 13. 15. 10. 15.  5.  0.]\n",
      " [ 0.  3. 15.  2.  0. 11.  8.  0.]\n",
      " [ 0.  4. 12.  0.  0.  8.  8.  0.]\n",
      " [ 0.  5.  8.  0.  0.  9.  8.  0.]\n",
      " [ 0.  4. 11.  0.  1. 12.  7.  0.]\n",
      " [ 0.  2. 14.  5. 10. 12.  0.  0.]\n",
      " [ 0.  0.  6. 13. 10.  0.  0.  0.]]\n"
     ]
    }
   ],
   "source": [
    "print(digits.images[0])"
   ]
  },
  {
   "cell_type": "code",
   "execution_count": 6,
   "id": "9925900b",
   "metadata": {},
   "outputs": [
    {
     "data": {
      "text/plain": [
       "<Figure size 432x288 with 0 Axes>"
      ]
     },
     "metadata": {},
     "output_type": "display_data"
    },
    {
     "data": {
      "image/png": "[encoded data removed]",
      "text/plain": [
       "<Figure size 288x288 with 1 Axes>"
      ]
     },
     "metadata": {
      "needs_background": "light"
     },
     "output_type": "display_data"
    }
   ],
   "source": [
    "import matplotlib.pyplot as plt \n",
    "plt.gray() \n",
    "plt.matshow(digits.images[0]) \n",
    "plt.show()"
   ]
  },
  {
   "cell_type": "code",
   "execution_count": 7,
   "id": "6356ebfd",
   "metadata": {},
   "outputs": [
    {
     "name": "stdout",
     "output_type": "stream",
     "text": [
      "[[ 0.  0. 12. 10.  0.  0.  0.  0.]\n",
      " [ 0.  0. 14. 16. 16. 14.  0.  0.]\n",
      " [ 0.  0. 13. 16. 15. 10.  1.  0.]\n",
      " [ 0.  0. 11. 16. 16.  7.  0.  0.]\n",
      " [ 0.  0.  0.  4.  7. 16.  7.  0.]\n",
      " [ 0.  0.  0.  0.  4. 16.  9.  0.]\n",
      " [ 0.  0.  5.  4. 12. 16.  4.  0.]\n",
      " [ 0.  0.  9. 16. 16. 10.  0.  0.]]\n"
     ]
    }
   ],
   "source": [
    "print(digits.images[5])"
   ]
  },
  {
   "cell_type": "code",
   "execution_count": 8,
   "id": "b2ca9f55",
   "metadata": {},
   "outputs": [
    {
     "data": {
      "text/plain": [
       "<Figure size 432x288 with 0 Axes>"
      ]
     },
     "metadata": {},
     "output_type": "display_data"
    },
    {
     "data": {
      "image/png": "[encoded data removed]",
      "text/plain": [
       "<Figure size 288x288 with 1 Axes>"
      ]
     },
     "metadata": {
      "needs_background": "light"
     },
     "output_type": "display_data"
    }
   ],
   "source": [
    "plt.gray() \n",
    "plt.matshow(digits.images[5]) \n",
    "plt.show()"
   ]
  },
  {
   "cell_type": "code",
   "execution_count": 9,
   "id": "3268cc2b",
   "metadata": {},
   "outputs": [
    {
     "data": {
      "text/plain": [
       "<Figure size 432x288 with 0 Axes>"
      ]
     },
     "metadata": {},
     "output_type": "display_data"
    },
    {
     "data": {
      "image/png": "[encoded data removed]",
      "text/plain": [
       "<Figure size 288x288 with 1 Axes>"
      ]
     },
     "metadata": {
      "needs_background": "light"
     },
     "output_type": "display_data"
    }
   ],
   "source": [
    "plt.gray() \n",
    "plt.matshow(digits.images[8]) \n",
    "plt.show()"
   ]
  },
  {
   "cell_type": "code",
   "execution_count": 10,
   "id": "c6d6bb1f",
   "metadata": {
    "scrolled": true
   },
   "outputs": [
    {
     "data": {
      "text/plain": [
       "<Figure size 432x288 with 0 Axes>"
      ]
     },
     "metadata": {},
     "output_type": "display_data"
    },
    {
     "data": {
      "image/png": "[encoded data removed]",
      "text/plain": [
       "<Figure size 288x288 with 1 Axes>"
      ]
     },
     "metadata": {
      "needs_background": "light"
     },
     "output_type": "display_data"
    }
   ],
   "source": [
    "plt.gray() \n",
    "plt.matshow(digits.images[2]) \n",
    "plt.show()"
   ]
  },
  {
   "cell_type": "code",
   "execution_count": 11,
   "id": "a8b65f2a",
   "metadata": {
    "scrolled": true
   },
   "outputs": [
    {
     "data": {
      "image/png": "[encoded data removed]",
      "text/plain": [
       "<Figure size 432x288 with 1 Axes>"
      ]
     },
     "metadata": {
      "needs_background": "light"
     },
     "output_type": "display_data"
    }
   ],
   "source": [
    "import matplotlib.pyplot as plt\n",
    "plt.imshow(digits.images[0],cmap='binary')\n",
    "plt.show()"
   ]
  },
  {
   "cell_type": "markdown",
   "id": "51254541",
   "metadata": {},
   "source": [
    "Loads all the images"
   ]
  },
  {
   "cell_type": "code",
   "execution_count": 12,
   "id": "d21c0ce2",
   "metadata": {},
   "outputs": [],
   "source": [
    "def plot_multi(i):\n",
    "    '''Plots 16 digits, starting with digit i'''\n",
    "    nplots = 16\n",
    "    fig = plt.figure(figsize=(15,15))\n",
    "    for j in range(nplots):\n",
    "        plt.subplot(4,4,j+1)\n",
    "        plt.imshow(digits.images[i+j], cmap='binary')\n",
    "        plt.title(digits.target[i+j])\n",
    "        plt.axis('off')\n",
    "    plt.show()"
   ]
  },
  {
   "cell_type": "code",
   "execution_count": 13,
   "id": "aea3b11c",
   "metadata": {
    "scrolled": true
   },
   "outputs": [
    {
     "data": {
      "image/png": "[encoded data removed]",
      "text/plain": [
       "<Figure size 1080x1080 with 16 Axes>"
      ]
     },
     "metadata": {
      "needs_background": "light"
     },
     "output_type": "display_data"
    }
   ],
   "source": [
    "plot_multi(0)"
   ]
  },
  {
   "cell_type": "markdown",
   "id": "cd2374bf",
   "metadata": {},
   "source": [
    "Importing libraries and functions"
   ]
  },
  {
   "cell_type": "code",
   "execution_count": 14,
   "id": "6027bd13",
   "metadata": {},
   "outputs": [],
   "source": [
    "from sklearn import metrics\n",
    "from sklearn.metrics import accuracy_score\n",
    "from sklearn.model_selection import train_test_split"
   ]
  },
  {
   "cell_type": "markdown",
   "id": "04414fdf",
   "metadata": {},
   "source": [
    "<h2>Data preparation</h2>\n",
    "Flatterning the image which makes it into 2D array. And the n_samples is the entire dataset will be flattern, reshaped and stored in 8*8 grayscale. "
   ]
  },
  {
   "cell_type": "code",
   "execution_count": 15,
   "id": "d54721b7",
   "metadata": {},
   "outputs": [],
   "source": [
    "n_samples = len(digits.images)\n",
    "data = digits.images.reshape((n_samples, -1))"
   ]
  },
  {
   "cell_type": "markdown",
   "id": "757e06a1",
   "metadata": {},
   "source": [
    "<h2>Splitting Data into Train and Test</h2>\n",
    "This will split the data into 50-50, 50% of the overall data will be training and the other 50% will be testing data."
   ]
  },
  {
   "cell_type": "code",
   "execution_count": 16,
   "id": "d24c194d",
   "metadata": {},
   "outputs": [],
   "source": [
    "X_train, X_test, y_train, y_test = train_test_split(\n",
    "    data, digits.target, test_size=0.75, shuffle=False)"
   ]
  },
  {
   "cell_type": "markdown",
   "id": "0fdf87e3",
   "metadata": {},
   "source": [
    "<H2>Support Vector Machine (SVM) algorithms</H2>"
   ]
  },
  {
   "cell_type": "code",
   "execution_count": 17,
   "id": "ea7ffc9d",
   "metadata": {
    "scrolled": false
   },
   "outputs": [
    {
     "name": "stdout",
     "output_type": "stream",
     "text": [
      "\n",
      "Classification report for classifier <module 'sklearn.svm' from 'B:\\\\Anaconda\\\\lib\\\\site-packages\\\\sklearn\\\\svm\\\\__init__.py'>:\n",
      "              precision    recall  f1-score   support\n",
      "\n",
      "           0       0.99      0.99      0.99       131\n",
      "           1       0.94      0.93      0.94       137\n",
      "           2       0.98      0.95      0.97       131\n",
      "           3       0.99      0.85      0.91       136\n",
      "           4       0.98      0.95      0.96       139\n",
      "           5       0.96      0.93      0.95       136\n",
      "           6       0.98      0.99      0.98       138\n",
      "           7       0.95      0.99      0.97       134\n",
      "           8       0.90      0.95      0.92       130\n",
      "           9       0.83      0.96      0.89       136\n",
      "\n",
      "    accuracy                           0.95      1348\n",
      "   macro avg       0.95      0.95      0.95      1348\n",
      "weighted avg       0.95      0.95      0.95      1348\n",
      "\n",
      "\n",
      "\n",
      "Confusion matrix:\n",
      "[[130   0   0   0   1   0   0   0   0   0]\n",
      " [  0 128   2   0   0   1   2   0   3   1]\n",
      " [  0   0 125   0   0   0   0   1   0   5]\n",
      " [  0   0   1 115   0   3   0   3   8   6]\n",
      " [  0   0   0   0 132   0   0   3   0   4]\n",
      " [  0   0   0   0   2 127   1   0   0   6]\n",
      " [  1   1   0   0   0   0 136   0   0   0]\n",
      " [  0   0   0   0   0   0   0 132   1   1]\n",
      " [  0   4   0   0   0   0   0   0 123   3]\n",
      " [  0   3   0   1   0   1   0   0   1 130]]\n",
      "\n",
      "Accuracy of the Algorithm:  0.9480712166172107\n"
     ]
    },
    {
     "data": {
      "image/png": "[encoded data removed]",
      "text/plain": [
       "<Figure size 432x288 with 8 Axes>"
      ]
     },
     "metadata": {
      "needs_background": "light"
     },
     "output_type": "display_data"
    },
    {
     "data": {
      "image/png": "[encoded data removed]",
      "text/plain": [
       "<Figure size 432x288 with 2 Axes>"
      ]
     },
     "metadata": {
      "needs_background": "light"
     },
     "output_type": "display_data"
    },
    {
     "name": "stdout",
     "output_type": "stream",
     "text": [
      "Execution time:  1.5658323764801025 secs\n"
     ]
    }
   ],
   "source": [
    "from sklearn import svm # Import svm\n",
    "\n",
    "start_time = time.time() \n",
    "\n",
    "# Create SVC\n",
    "svmClass = svm.SVC(gamma=0.001)\n",
    "svmClass.fit(X_train, y_train) # Learns from digits on the training data.\n",
    "predicted = svmClass.predict(X_test) # Predict the value on the digits on the test data.\n",
    "_, axes = plt.subplots(2, 4) # Testing the samples and show their prediction.\n",
    "\n",
    "# Displays the testing data that it used.\n",
    "images_and_labels = list(zip(digits.images, digits.target))\n",
    "for ax, (image, label) in zip(axes[0, :], images_and_labels[:4]):\n",
    "    ax.set_axis_off()\n",
    "    ax.imshow(image, cmap=plt.cm.gray_r, interpolation='nearest')\n",
    "    ax.set_title('Training: %i' % label)\n",
    "\n",
    "    # Displays the prediction.\n",
    "images_and_predictions = list(zip(digits.images[n_samples // 2:], predicted))\n",
    "for ax, (image, prediction) in zip(axes[1, :], images_and_predictions[:4]):\n",
    "    ax.set_axis_off()\n",
    "    ax.imshow(image, cmap=plt.cm.gray_r, interpolation='nearest')\n",
    "    ax.set_title('Prediction: %i' % prediction)\n",
    "\n",
    "    # Produce confusion matrix using the classification_report function to show text showing the classication matrics.\n",
    "print(\"\\nClassification report for classifier %s:\\n%s\\n\" % (svm, metrics.classification_report(y_test, predicted)))\n",
    "# Plot a confusion matrix which shows the TRUE digit values and PREDICTED Values\n",
    "disp = metrics.plot_confusion_matrix(svmClass, X_test, y_test)\n",
    "disp.figure_.suptitle(\"Confusion Matrix\")\n",
    "print(\"\\nConfusion matrix:\\n%s\" % disp.confusion_matrix)\n",
    "print(\"\\nAccuracy of the Algorithm: \", svmClass.score(X_test, y_test)) # Score function allow us to \n",
    "\n",
    "plt.show()\n",
    "\n",
    "end_time = time.time()\n",
    "print(\"Execution time: \", end_time - start_time,\"secs\")"
   ]
  },
  {
   "cell_type": "markdown",
   "id": "4d249b50",
   "metadata": {},
   "source": [
    "<H2>Naive Bayes NB</H2>"
   ]
  },
  {
   "cell_type": "code",
   "execution_count": 18,
   "id": "1046946c",
   "metadata": {},
   "outputs": [
    {
     "name": "stdout",
     "output_type": "stream",
     "text": [
      "\n",
      "Classification report for classifier GaussianNB():\n",
      "              precision    recall  f1-score   support\n",
      "\n",
      "           0       1.00      0.95      0.97       131\n",
      "           1       0.70      0.47      0.57       137\n",
      "           2       0.73      0.83      0.78       131\n",
      "           3       0.94      0.74      0.83       136\n",
      "           4       0.91      0.76      0.82       139\n",
      "           5       0.86      0.71      0.78       136\n",
      "           6       0.98      0.93      0.95       138\n",
      "           7       0.68      0.87      0.76       134\n",
      "           8       0.56      0.75      0.64       130\n",
      "           9       0.61      0.77      0.68       136\n",
      "\n",
      "    accuracy                           0.78      1348\n",
      "   macro avg       0.80      0.78      0.78      1348\n",
      "weighted avg       0.80      0.78      0.78      1348\n",
      "\n",
      "\n",
      "\n",
      "Confusion matrix:\n",
      "[[124   0   0   0   4   0   0   0   2   1]\n",
      " [  0  65  26   0   4   1   1   0  33   7]\n",
      " [  0   2 109   0   0   2   1   0  14   3]\n",
      " [  0   1   2 100   0   4   0   2  11  16]\n",
      " [  0   4   0   1 105   1   0  26   2   0]\n",
      " [  0   3   0   2   0  97   0  12   3  19]\n",
      " [  0   3   2   0   0   0 128   0   1   4]\n",
      " [  0   0   2   1   2   2   0 116   5   6]\n",
      " [  0   6   9   0   1   4   0   2  98  10]\n",
      " [  0   9   0   2   0   2   1  12   5 105]]\n",
      "\n",
      "Accuracy of the Algorithm:  0.776706231454006\n"
     ]
    },
    {
     "data": {
      "image/png": "[encoded data removed]",
      "text/plain": [
       "<Figure size 432x288 with 8 Axes>"
      ]
     },
     "metadata": {
      "needs_background": "light"
     },
     "output_type": "display_data"
    },
    {
     "data": {
      "image/png": "[encoded data removed]",
      "text/plain": [
       "<Figure size 432x288 with 2 Axes>"
      ]
     },
     "metadata": {
      "needs_background": "light"
     },
     "output_type": "display_data"
    },
    {
     "name": "stdout",
     "output_type": "stream",
     "text": [
      "Execution time:  1.8879623413085938 secs\n"
     ]
    }
   ],
   "source": [
    "from sklearn.naive_bayes import GaussianNB\n",
    "\n",
    "start_time = time.time()\n",
    "\n",
    "GNB_classifier = GaussianNB()\n",
    "GNB_classifier.fit(X_train, y_train)\n",
    "predicted = GNB_classifier.predict(X_test)\n",
    "_, axes = plt.subplots(2, 4)\n",
    "images_and_labels = list(zip(digits.images, digits.target))\n",
    "for ax, (image, label) in zip(axes[0, :], images_and_labels[:4]):\n",
    "    ax.set_axis_off()\n",
    "    ax.imshow(image, cmap=plt.cm.gray_r, interpolation='nearest')\n",
    "    ax.set_title('Training: %i' % label)\n",
    "    \n",
    "images_and_predictions = list(zip(digits.images[n_samples // 2:], predicted))\n",
    "for ax, (image, prediction) in zip(axes[1, :], images_and_predictions[:4]):\n",
    "    ax.set_axis_off()\n",
    "    ax.imshow(image, cmap=plt.cm.gray_r, interpolation='nearest')\n",
    "    ax.set_title('Prediction: %i' % prediction)\n",
    "    \n",
    "print(\"\\nClassification report for classifier %s:\\n%s\\n\" % (GNB_classifier, metrics.classification_report(y_test, predicted)))\n",
    "disp = metrics.plot_confusion_matrix(GNB_classifier, X_test, y_test)\n",
    "disp.figure_.suptitle(\"Confusion Matrix\")\n",
    "print(\"\\nConfusion matrix:\\n%s\" % disp.confusion_matrix)\n",
    "print(\"\\nAccuracy of the Algorithm: \", GNB_classifier.score(X_test, y_test))\n",
    "plt.show()\n",
    "\n",
    "end_time = time.time()\n",
    "print(\"Execution time: \", end_time - start_time,\"secs\")"
   ]
  },
  {
   "cell_type": "markdown",
   "id": "8413a814",
   "metadata": {},
   "source": [
    "<H2>Decision Tree</H2>"
   ]
  },
  {
   "cell_type": "code",
   "execution_count": 19,
   "id": "395624d3",
   "metadata": {},
   "outputs": [
    {
     "name": "stdout",
     "output_type": "stream",
     "text": [
      "\n",
      "Classification report for classifier DecisionTreeClassifier():\n",
      "              precision    recall  f1-score   support\n",
      "\n",
      "           0       0.82      0.92      0.87       131\n",
      "           1       0.74      0.36      0.48       137\n",
      "           2       0.69      0.74      0.71       131\n",
      "           3       0.85      0.68      0.76       136\n",
      "           4       0.68      0.73      0.70       139\n",
      "           5       0.69      0.68      0.68       136\n",
      "           6       0.73      0.75      0.74       138\n",
      "           7       0.61      0.74      0.67       134\n",
      "           8       0.50      0.57      0.53       130\n",
      "           9       0.60      0.65      0.62       136\n",
      "\n",
      "    accuracy                           0.68      1348\n",
      "   macro avg       0.69      0.68      0.68      1348\n",
      "weighted avg       0.69      0.68      0.68      1348\n",
      "\n",
      "\n",
      "\n",
      "Confusion matrix:\n",
      "[[120   0   2   0   2   2   1   0   4   0]\n",
      " [  0  49   8   1  20   5   9  19  24   2]\n",
      " [  0   1  97   5   5   0  11   3   5   4]\n",
      " [  0   0   3  93   2  11   1   5  14   7]\n",
      " [  1   0   3   0 102   2   9  18   2   2]\n",
      " [ 11   4   0   3   1  92   0   3   7  15]\n",
      " [  1   2   0   0  10   4 104   1  13   3]\n",
      " [  0   4   5   2   0   3   0  99   2  19]\n",
      " [  0   5  16   2   7   5   7   7  74   7]\n",
      " [ 13   1   7   4   2  10   0   8   3  88]]\n",
      "\n",
      "Accuracy of the Algorithm:  0.6810089020771514\n"
     ]
    },
    {
     "data": {
      "image/png": "[encoded data removed]",
      "text/plain": [
       "<Figure size 432x288 with 8 Axes>"
      ]
     },
     "metadata": {
      "needs_background": "light"
     },
     "output_type": "display_data"
    },
    {
     "data": {
      "image/png": "[encoded data removed]",
      "text/plain": [
       "<Figure size 432x288 with 2 Axes>"
      ]
     },
     "metadata": {
      "needs_background": "light"
     },
     "output_type": "display_data"
    },
    {
     "name": "stdout",
     "output_type": "stream",
     "text": [
      "Execution time:  4.202794075012207 secs\n"
     ]
    }
   ],
   "source": [
    "from sklearn import tree\n",
    "dt_classifier = tree.DecisionTreeClassifier()\n",
    "dt_classifier.fit(X_train, y_train)\n",
    "\n",
    "predicted = dt_classifier.predict(X_test)\n",
    "_, axes = plt.subplots(2, 4)\n",
    "images_and_labels = list(zip(digits.images, digits.target))\n",
    "for ax, (image, label) in zip(axes[0, :], images_and_labels[:4]):\n",
    "    ax.set_axis_off()\n",
    "    ax.imshow(image, cmap=plt.cm.gray_r, interpolation='nearest')\n",
    "    ax.set_title('Training: %i' % label)\n",
    "    \n",
    "images_and_predictions = list(zip(digits.images[n_samples // 2:], predicted))\n",
    "for ax, (image, prediction) in zip(axes[1, :], images_and_predictions[:4]):\n",
    "    ax.set_axis_off()\n",
    "    ax.imshow(image, cmap=plt.cm.gray_r, interpolation='nearest')\n",
    "    ax.set_title('Prediction: %i' % prediction)\n",
    "    \n",
    "print(\"\\nClassification report for classifier %s:\\n%s\\n\" % (dt_classifier, metrics.classification_report(y_test, predicted)))\n",
    "disp = metrics.plot_confusion_matrix(dt_classifier, X_test, y_test)\n",
    "disp.figure_.suptitle(\"Confusion Matrix\")\n",
    "print(\"\\nConfusion matrix:\\n%s\" % disp.confusion_matrix)\n",
    "print(\"\\nAccuracy of the Algorithm: \", dt_classifier.score(X_test, y_test))\n",
    "plt.show()\n",
    "\n",
    "end_time = time.time()\n",
    "print(\"Execution time: \", end_time - start_time,\"secs\")"
   ]
  },
  {
   "cell_type": "markdown",
   "id": "cde7c4a6",
   "metadata": {},
   "source": [
    "<H2>K-Nearest Neighbour (K-NN)</H2>"
   ]
  },
  {
   "cell_type": "code",
   "execution_count": 20,
   "id": "89504c03",
   "metadata": {},
   "outputs": [
    {
     "name": "stdout",
     "output_type": "stream",
     "text": [
      "\n",
      "Classification report for classifier KNeighborsClassifier(metric='euclidean'):\n",
      "              precision    recall  f1-score   support\n",
      "\n",
      "           0       0.97      1.00      0.98       131\n",
      "           1       0.86      0.79      0.82       137\n",
      "           2       0.82      0.93      0.87       131\n",
      "           3       0.90      0.88      0.89       136\n",
      "           4       0.99      0.96      0.97       139\n",
      "           5       0.98      0.94      0.96       136\n",
      "           6       0.94      0.99      0.96       138\n",
      "           7       0.96      0.99      0.97       134\n",
      "           8       0.88      0.87      0.87       130\n",
      "           9       0.88      0.85      0.86       136\n",
      "\n",
      "    accuracy                           0.92      1348\n",
      "   macro avg       0.92      0.92      0.92      1348\n",
      "weighted avg       0.92      0.92      0.92      1348\n",
      "\n",
      "\n",
      "\n",
      "Confusion matrix:\n",
      "[[131   0   0   0   0   0   0   0   0   0]\n",
      " [  0 108  15   1   0   0   4   0   8   1]\n",
      " [  1   0 122   7   0   0   0   1   0   0]\n",
      " [  0   0   2 120   0   1   0   2   6   5]\n",
      " [  0   0   0   0 133   0   0   2   0   4]\n",
      " [  0   0   0   0   1 128   3   0   0   4]\n",
      " [  2   0   0   0   0   0 136   0   0   0]\n",
      " [  0   0   1   0   0   0   0 132   0   1]\n",
      " [  0   5   8   2   0   0   1   0 113   1]\n",
      " [  1  13   0   3   0   1   0   1   2 115]]\n",
      "\n",
      "Accuracy of the Algorithm:  0.9183976261127597\n"
     ]
    },
    {
     "data": {
      "image/png": "[encoded data removed]",
      "text/plain": [
       "<Figure size 432x288 with 8 Axes>"
      ]
     },
     "metadata": {
      "needs_background": "light"
     },
     "output_type": "display_data"
    },
    {
     "data": {
      "image/png": "[encoded data removed]",
      "text/plain": [
       "<Figure size 432x288 with 2 Axes>"
      ]
     },
     "metadata": {
      "needs_background": "light"
     },
     "output_type": "display_data"
    },
    {
     "name": "stdout",
     "output_type": "stream",
     "text": [
      "Execution time:  1.9071967601776123 secs\n"
     ]
    }
   ],
   "source": [
    "from sklearn.neighbors import KNeighborsClassifier # Import KNN Classifier\n",
    "\n",
    "start_time = time.time()\n",
    "\n",
    "KNN_classifier = KNeighborsClassifier(n_neighbors=5, metric='euclidean')\n",
    "KNN_classifier.fit(X_train, y_train)\n",
    "\n",
    "predicted = KNN_classifier.predict(X_test)\n",
    "_, axes = plt.subplots(2, 4)\n",
    "images_and_labels = list(zip(digits.images, digits.target))\n",
    "for ax, (image, label) in zip(axes[0, :], images_and_labels[:4]):\n",
    "    ax.set_axis_off()\n",
    "    ax.imshow(image, cmap=plt.cm.gray_r, interpolation='nearest')\n",
    "    ax.set_title('Training: %i' % label)\n",
    "    \n",
    "images_and_predictions = list(zip(digits.images[n_samples // 2:], predicted))\n",
    "for ax, (image, prediction) in zip(axes[1, :], images_and_predictions[:4]):\n",
    "    ax.set_axis_off()\n",
    "    ax.imshow(image, cmap=plt.cm.gray_r, interpolation='nearest')\n",
    "    ax.set_title('Prediction: %i' % prediction)\n",
    "    \n",
    "print(\"\\nClassification report for classifier %s:\\n%s\\n\" % (KNN_classifier, metrics.classification_report(y_test, predicted)))\n",
    "disp = metrics.plot_confusion_matrix(KNN_classifier, X_test, y_test)\n",
    "disp.figure_.suptitle(\"Confusion Matrix\")\n",
    "print(\"\\nConfusion matrix:\\n%s\" % disp.confusion_matrix)\n",
    "print(\"\\nAccuracy of the Algorithm: \", KNN_classifier.score(X_test, y_test))\n",
    "\n",
    "plt.show()\n",
    "\n",
    "end_time = time.time()\n",
    "print(\"Execution time: \", end_time - start_time,\"secs\")"
   ]
  },
  {
   "cell_type": "markdown",
   "id": "2371e718",
   "metadata": {},
   "source": [
    "<H2>Results</H2>\n",
    "Thanks to Sklearn's library includeds a lot of other algorithms such as Random Forest and Ensemble Method "
   ]
  },
  {
   "cell_type": "code",
   "execution_count": 21,
   "id": "a8a0ef59",
   "metadata": {},
   "outputs": [
    {
     "name": "stdout",
     "output_type": "stream",
     "text": [
      "\n",
      "Accuracy of the SVM:  0.9480712166172107\n",
      "\n",
      "Accuracy of the Naive Bayes:  0.776706231454006\n",
      "\n",
      "Accuracy of the Decision Tree:  0.6810089020771514\n",
      "\n",
      "Accuracy of the KNN:  0.9183976261127597\n"
     ]
    }
   ],
   "source": [
    "print(\"\\nAccuracy of the SVM: \", svmClass.score(X_test, y_test))\n",
    "print(\"\\nAccuracy of the Naive Bayes: \", GNB_classifier.score(X_test, y_test))\n",
    "print(\"\\nAccuracy of the Decision Tree: \", dt_classifier.score(X_test, y_test))\n",
    "print(\"\\nAccuracy of the KNN: \", KNN_classifier.score(X_test, y_test))"
   ]
  }
 ],
 "metadata": {
  "kernelspec": {
   "display_name": "Python 3 (ipykernel)",
   "language": "python",
   "name": "python3"
  },
  "language_info": {
   "codemirror_mode": {
    "name": "ipython",
    "version": 3
   },
   "file_extension": ".py",
   "mimetype": "text/x-python",
   "name": "python",
   "nbconvert_exporter": "python",
   "pygments_lexer": "ipython3",
   "version": "3.9.7"
  }
 },
 "nbformat": 4,
 "nbformat_minor": 5
}
