{
 "cells": [
  {
   "cell_type": "markdown",
   "id": "14495a30",
   "metadata": {},
   "source": [
    "<h1>K-Nearest-Neighbors Classifier</h1>\n",
    "Create a K-Nearest-Neighbors Classifier supporting 3 dimensions<br>\n",
    "Investigate whether it performs better"
   ]
  },
  {
   "cell_type": "markdown",
   "id": "a434261c",
   "metadata": {},
   "source": [
    "<h3>Import libraries</h3>"
   ]
  },
  {
   "cell_type": "code",
   "execution_count": 2,
   "id": "c66b455d",
   "metadata": {},
   "outputs": [],
   "source": [
    "import pandas as pd\n",
    "import numpy as np\n",
    "from sklearn.neighbors import KNeighborsClassifier\n",
    "from sklearn import metrics\n",
    "from sklearn.model_selection import train_test_split"
   ]
  },
  {
   "cell_type": "markdown",
   "id": "aacdd2c2",
   "metadata": {},
   "source": [
    "<h3>Reading data</h3>\n",
    "Using pandas to read the csv file."
   ]
  },
  {
   "cell_type": "code",
   "execution_count": 4,
   "id": "594d178e",
   "metadata": {},
   "outputs": [
    {
     "data": {
      "text/html": [
       "<div>\n",
       "<style scoped>\n",
       "    .dataframe tbody tr th:only-of-type {\n",
       "        vertical-align: middle;\n",
       "    }\n",
       "\n",
       "    .dataframe tbody tr th {\n",
       "        vertical-align: top;\n",
       "    }\n",
       "\n",
       "    .dataframe thead th {\n",
       "        text-align: right;\n",
       "    }\n",
       "</style>\n",
       "<table border=\"1\" class=\"dataframe\">\n",
       "  <thead>\n",
       "    <tr style=\"text-align: right;\">\n",
       "      <th></th>\n",
       "      <th>MinTemp</th>\n",
       "      <th>MaxTemp</th>\n",
       "      <th>Rainfall</th>\n",
       "      <th>Evaporation</th>\n",
       "      <th>Sunshine</th>\n",
       "      <th>WindGustDir</th>\n",
       "      <th>WindGustSpeed</th>\n",
       "      <th>WindDir9am</th>\n",
       "      <th>WindDir3pm</th>\n",
       "      <th>WindSpeed9am</th>\n",
       "      <th>...</th>\n",
       "      <th>Humidity3pm</th>\n",
       "      <th>Pressure9am</th>\n",
       "      <th>Pressure3pm</th>\n",
       "      <th>Cloud9am</th>\n",
       "      <th>Cloud3pm</th>\n",
       "      <th>Temp9am</th>\n",
       "      <th>Temp3pm</th>\n",
       "      <th>RainToday</th>\n",
       "      <th>RISK_MM</th>\n",
       "      <th>RainTomorrow</th>\n",
       "    </tr>\n",
       "    <tr>\n",
       "      <th>Date</th>\n",
       "      <th></th>\n",
       "      <th></th>\n",
       "      <th></th>\n",
       "      <th></th>\n",
       "      <th></th>\n",
       "      <th></th>\n",
       "      <th></th>\n",
       "      <th></th>\n",
       "      <th></th>\n",
       "      <th></th>\n",
       "      <th></th>\n",
       "      <th></th>\n",
       "      <th></th>\n",
       "      <th></th>\n",
       "      <th></th>\n",
       "      <th></th>\n",
       "      <th></th>\n",
       "      <th></th>\n",
       "      <th></th>\n",
       "      <th></th>\n",
       "      <th></th>\n",
       "    </tr>\n",
       "  </thead>\n",
       "  <tbody>\n",
       "    <tr>\n",
       "      <th>2008-02-01</th>\n",
       "      <td>19.5</td>\n",
       "      <td>22.4</td>\n",
       "      <td>15.6</td>\n",
       "      <td>6.2</td>\n",
       "      <td>0.0</td>\n",
       "      <td>NaN</td>\n",
       "      <td>NaN</td>\n",
       "      <td>S</td>\n",
       "      <td>SSW</td>\n",
       "      <td>17.0</td>\n",
       "      <td>...</td>\n",
       "      <td>84.0</td>\n",
       "      <td>1017.6</td>\n",
       "      <td>1017.4</td>\n",
       "      <td>8.0</td>\n",
       "      <td>8.0</td>\n",
       "      <td>20.7</td>\n",
       "      <td>20.9</td>\n",
       "      <td>Yes</td>\n",
       "      <td>6.0</td>\n",
       "      <td>Yes</td>\n",
       "    </tr>\n",
       "    <tr>\n",
       "      <th>2008-02-02</th>\n",
       "      <td>19.5</td>\n",
       "      <td>25.6</td>\n",
       "      <td>6.0</td>\n",
       "      <td>3.4</td>\n",
       "      <td>2.7</td>\n",
       "      <td>NaN</td>\n",
       "      <td>NaN</td>\n",
       "      <td>W</td>\n",
       "      <td>E</td>\n",
       "      <td>9.0</td>\n",
       "      <td>...</td>\n",
       "      <td>73.0</td>\n",
       "      <td>1017.9</td>\n",
       "      <td>1016.4</td>\n",
       "      <td>7.0</td>\n",
       "      <td>7.0</td>\n",
       "      <td>22.4</td>\n",
       "      <td>24.8</td>\n",
       "      <td>Yes</td>\n",
       "      <td>6.6</td>\n",
       "      <td>Yes</td>\n",
       "    </tr>\n",
       "    <tr>\n",
       "      <th>2008-02-03</th>\n",
       "      <td>21.6</td>\n",
       "      <td>24.5</td>\n",
       "      <td>6.6</td>\n",
       "      <td>2.4</td>\n",
       "      <td>0.1</td>\n",
       "      <td>NaN</td>\n",
       "      <td>NaN</td>\n",
       "      <td>ESE</td>\n",
       "      <td>ESE</td>\n",
       "      <td>17.0</td>\n",
       "      <td>...</td>\n",
       "      <td>86.0</td>\n",
       "      <td>1016.7</td>\n",
       "      <td>1015.6</td>\n",
       "      <td>7.0</td>\n",
       "      <td>8.0</td>\n",
       "      <td>23.5</td>\n",
       "      <td>23.0</td>\n",
       "      <td>Yes</td>\n",
       "      <td>18.8</td>\n",
       "      <td>Yes</td>\n",
       "    </tr>\n",
       "    <tr>\n",
       "      <th>2008-02-04</th>\n",
       "      <td>20.2</td>\n",
       "      <td>22.8</td>\n",
       "      <td>18.8</td>\n",
       "      <td>2.2</td>\n",
       "      <td>0.0</td>\n",
       "      <td>NaN</td>\n",
       "      <td>NaN</td>\n",
       "      <td>NNE</td>\n",
       "      <td>E</td>\n",
       "      <td>22.0</td>\n",
       "      <td>...</td>\n",
       "      <td>90.0</td>\n",
       "      <td>1014.2</td>\n",
       "      <td>1011.8</td>\n",
       "      <td>8.0</td>\n",
       "      <td>8.0</td>\n",
       "      <td>21.4</td>\n",
       "      <td>20.9</td>\n",
       "      <td>Yes</td>\n",
       "      <td>77.4</td>\n",
       "      <td>Yes</td>\n",
       "    </tr>\n",
       "    <tr>\n",
       "      <th>2008-02-05</th>\n",
       "      <td>19.7</td>\n",
       "      <td>25.7</td>\n",
       "      <td>77.4</td>\n",
       "      <td>NaN</td>\n",
       "      <td>0.0</td>\n",
       "      <td>NaN</td>\n",
       "      <td>NaN</td>\n",
       "      <td>NNE</td>\n",
       "      <td>W</td>\n",
       "      <td>11.0</td>\n",
       "      <td>...</td>\n",
       "      <td>74.0</td>\n",
       "      <td>1008.3</td>\n",
       "      <td>1004.8</td>\n",
       "      <td>8.0</td>\n",
       "      <td>8.0</td>\n",
       "      <td>22.5</td>\n",
       "      <td>25.5</td>\n",
       "      <td>Yes</td>\n",
       "      <td>1.6</td>\n",
       "      <td>Yes</td>\n",
       "    </tr>\n",
       "  </tbody>\n",
       "</table>\n",
       "<p>5 rows × 22 columns</p>\n",
       "</div>"
      ],
      "text/plain": [
       "            MinTemp  MaxTemp  Rainfall  Evaporation  Sunshine WindGustDir  \\\n",
       "Date                                                                        \n",
       "2008-02-01     19.5     22.4      15.6          6.2       0.0         NaN   \n",
       "2008-02-02     19.5     25.6       6.0          3.4       2.7         NaN   \n",
       "2008-02-03     21.6     24.5       6.6          2.4       0.1         NaN   \n",
       "2008-02-04     20.2     22.8      18.8          2.2       0.0         NaN   \n",
       "2008-02-05     19.7     25.7      77.4          NaN       0.0         NaN   \n",
       "\n",
       "            WindGustSpeed WindDir9am WindDir3pm  WindSpeed9am  ...  \\\n",
       "Date                                                           ...   \n",
       "2008-02-01            NaN          S        SSW          17.0  ...   \n",
       "2008-02-02            NaN          W          E           9.0  ...   \n",
       "2008-02-03            NaN        ESE        ESE          17.0  ...   \n",
       "2008-02-04            NaN        NNE          E          22.0  ...   \n",
       "2008-02-05            NaN        NNE          W          11.0  ...   \n",
       "\n",
       "            Humidity3pm  Pressure9am  Pressure3pm  Cloud9am  Cloud3pm  \\\n",
       "Date                                                                    \n",
       "2008-02-01         84.0       1017.6       1017.4       8.0       8.0   \n",
       "2008-02-02         73.0       1017.9       1016.4       7.0       7.0   \n",
       "2008-02-03         86.0       1016.7       1015.6       7.0       8.0   \n",
       "2008-02-04         90.0       1014.2       1011.8       8.0       8.0   \n",
       "2008-02-05         74.0       1008.3       1004.8       8.0       8.0   \n",
       "\n",
       "            Temp9am  Temp3pm  RainToday  RISK_MM RainTomorrow  \n",
       "Date                                                           \n",
       "2008-02-01     20.7     20.9        Yes      6.0          Yes  \n",
       "2008-02-02     22.4     24.8        Yes      6.6          Yes  \n",
       "2008-02-03     23.5     23.0        Yes     18.8          Yes  \n",
       "2008-02-04     21.4     20.9        Yes     77.4          Yes  \n",
       "2008-02-05     22.5     25.5        Yes      1.6          Yes  \n",
       "\n",
       "[5 rows x 22 columns]"
      ]
     },
     "execution_count": 4,
     "metadata": {},
     "output_type": "execute_result"
    }
   ],
   "source": [
    "data = pd.read_csv('weather.csv', parse_dates=True, index_col=0)\n",
    "data.head()"
   ]
  },
  {
   "cell_type": "code",
   "execution_count": 5,
   "id": "b40ce3e5",
   "metadata": {},
   "outputs": [
    {
     "data": {
      "text/plain": [
       "DatetimeIndex(['2008-02-01', '2008-02-02', '2008-02-03', '2008-02-04',\n",
       "               '2008-02-05', '2008-02-06', '2008-02-07', '2008-02-08',\n",
       "               '2008-02-09', '2008-02-10',\n",
       "               ...\n",
       "               '2017-06-16', '2017-06-17', '2017-06-18', '2017-06-19',\n",
       "               '2017-06-20', '2017-06-21', '2017-06-22', '2017-06-23',\n",
       "               '2017-06-24', '2017-06-25'],\n",
       "              dtype='datetime64[ns]', name='Date', length=3337, freq=None)"
      ]
     },
     "execution_count": 5,
     "metadata": {},
     "output_type": "execute_result"
    }
   ],
   "source": [
    "data.index"
   ]
  },
  {
   "cell_type": "markdown",
   "id": "71d72ca1",
   "metadata": {},
   "source": [
    "<h3>Data check</h3>\n",
    "Identify all columns with datatype float64"
   ]
  },
  {
   "cell_type": "code",
   "execution_count": 6,
   "id": "781c0ed4",
   "metadata": {},
   "outputs": [
    {
     "data": {
      "text/plain": [
       "MinTemp          float64\n",
       "MaxTemp          float64\n",
       "Rainfall         float64\n",
       "Evaporation      float64\n",
       "Sunshine         float64\n",
       "WindGustDir       object\n",
       "WindGustSpeed    float64\n",
       "WindDir9am        object\n",
       "WindDir3pm        object\n",
       "WindSpeed9am     float64\n",
       "WindSpeed3pm     float64\n",
       "Humidity9am      float64\n",
       "Humidity3pm      float64\n",
       "Pressure9am      float64\n",
       "Pressure3pm      float64\n",
       "Cloud9am         float64\n",
       "Cloud3pm         float64\n",
       "Temp9am          float64\n",
       "Temp3pm          float64\n",
       "RainToday         object\n",
       "RISK_MM          float64\n",
       "RainTomorrow      object\n",
       "dtype: object"
      ]
     },
     "execution_count": 6,
     "metadata": {},
     "output_type": "execute_result"
    }
   ],
   "source": [
    "data.dtypes"
   ]
  },
  {
   "cell_type": "markdown",
   "id": "478a9011",
   "metadata": {},
   "source": [
    "<h3>Creating the dataset</h3>\n",
    "Using Humdity3pm and Pressure3pm togeather and using RainTomorrow as prediction.<br>"
   ]
  },
  {
   "cell_type": "code",
   "execution_count": 7,
   "id": "779a9839",
   "metadata": {},
   "outputs": [],
   "source": [
    "header = ['Humidity3pm', 'Pressure3pm', 'Cloud3pm', 'RainTomorrow']\n",
    "dataset = data[header]"
   ]
  },
  {
   "cell_type": "code",
   "execution_count": 8,
   "id": "15c8b31a",
   "metadata": {},
   "outputs": [
    {
     "data": {
      "text/html": [
       "<div>\n",
       "<style scoped>\n",
       "    .dataframe tbody tr th:only-of-type {\n",
       "        vertical-align: middle;\n",
       "    }\n",
       "\n",
       "    .dataframe tbody tr th {\n",
       "        vertical-align: top;\n",
       "    }\n",
       "\n",
       "    .dataframe thead th {\n",
       "        text-align: right;\n",
       "    }\n",
       "</style>\n",
       "<table border=\"1\" class=\"dataframe\">\n",
       "  <thead>\n",
       "    <tr style=\"text-align: right;\">\n",
       "      <th></th>\n",
       "      <th>Humidity3pm</th>\n",
       "      <th>Pressure3pm</th>\n",
       "      <th>Cloud3pm</th>\n",
       "      <th>RainTomorrow</th>\n",
       "    </tr>\n",
       "    <tr>\n",
       "      <th>Date</th>\n",
       "      <th></th>\n",
       "      <th></th>\n",
       "      <th></th>\n",
       "      <th></th>\n",
       "    </tr>\n",
       "  </thead>\n",
       "  <tbody>\n",
       "    <tr>\n",
       "      <th>2008-02-01</th>\n",
       "      <td>84.0</td>\n",
       "      <td>1017.4</td>\n",
       "      <td>8.0</td>\n",
       "      <td>Yes</td>\n",
       "    </tr>\n",
       "    <tr>\n",
       "      <th>2008-02-02</th>\n",
       "      <td>73.0</td>\n",
       "      <td>1016.4</td>\n",
       "      <td>7.0</td>\n",
       "      <td>Yes</td>\n",
       "    </tr>\n",
       "    <tr>\n",
       "      <th>2008-02-03</th>\n",
       "      <td>86.0</td>\n",
       "      <td>1015.6</td>\n",
       "      <td>8.0</td>\n",
       "      <td>Yes</td>\n",
       "    </tr>\n",
       "    <tr>\n",
       "      <th>2008-02-04</th>\n",
       "      <td>90.0</td>\n",
       "      <td>1011.8</td>\n",
       "      <td>8.0</td>\n",
       "      <td>Yes</td>\n",
       "    </tr>\n",
       "    <tr>\n",
       "      <th>2008-02-05</th>\n",
       "      <td>74.0</td>\n",
       "      <td>1004.8</td>\n",
       "      <td>8.0</td>\n",
       "      <td>Yes</td>\n",
       "    </tr>\n",
       "  </tbody>\n",
       "</table>\n",
       "</div>"
      ],
      "text/plain": [
       "            Humidity3pm  Pressure3pm  Cloud3pm RainTomorrow\n",
       "Date                                                       \n",
       "2008-02-01         84.0       1017.4       8.0          Yes\n",
       "2008-02-02         73.0       1016.4       7.0          Yes\n",
       "2008-02-03         86.0       1015.6       8.0          Yes\n",
       "2008-02-04         90.0       1011.8       8.0          Yes\n",
       "2008-02-05         74.0       1004.8       8.0          Yes"
      ]
     },
     "execution_count": 8,
     "metadata": {},
     "output_type": "execute_result"
    }
   ],
   "source": [
    "dataset.head()"
   ]
  },
  {
   "cell_type": "markdown",
   "id": "c4646094",
   "metadata": {},
   "source": [
    "<h3>Removing missing data from the csv</h3>"
   ]
  },
  {
   "cell_type": "code",
   "execution_count": 9,
   "id": "4c5dbda8",
   "metadata": {},
   "outputs": [
    {
     "data": {
      "text/plain": [
       "(3337, 1690)"
      ]
     },
     "execution_count": 9,
     "metadata": {},
     "output_type": "execute_result"
    }
   ],
   "source": [
    "dataset_clean = data.dropna()\n",
    "len(dataset), len(dataset_clean)"
   ]
  },
  {
   "cell_type": "markdown",
   "id": "8ccfc175",
   "metadata": {},
   "source": [
    "<h3>Splitting the dataset into traning and testing data</h3>\n",
    "Dataset X consist of three columns. <br>\n",
    "Datasety consist of 'RainTomorrow'. <br>\n",
    "Divide into X_train, X_test, y_train, y_test with train_test_split.<br>\n",
    "<br>\n",
    "Random_state is used to reproduce the results."
   ]
  },
  {
   "cell_type": "code",
   "execution_count": 10,
   "id": "d345de53",
   "metadata": {},
   "outputs": [],
   "source": [
    "X = dataset_clean[header[:3]]\n",
    "y = dataset_clean[header[3]]\n",
    "y = np.array([0 if value == 'No' else 1 for value in y])"
   ]
  },
  {
   "cell_type": "code",
   "execution_count": 17,
   "id": "42091f9a",
   "metadata": {},
   "outputs": [],
   "source": [
    "X_train, X_test, y_train, y_test = train_test_split(X, y, random_state=25)"
   ]
  },
  {
   "cell_type": "markdown",
   "id": "57e8fc9b",
   "metadata": {},
   "source": [
    "<h3>Train and test the model</h3>\n",
    "Create a classifier using KNeigborClassifier<br>\n",
    "Fitting the model with the training data, which predict the data from X_test to predict and assign to y_pred.<br>\n",
    "Evaulate teh score suing metrics.accuracy_score(y_test, y_pred)"
   ]
  },
  {
   "cell_type": "code",
   "execution_count": 18,
   "id": "8cfddb0a",
   "metadata": {},
   "outputs": [
    {
     "data": {
      "text/plain": [
       "0.7966903073286052"
      ]
     },
     "execution_count": 18,
     "metadata": {},
     "output_type": "execute_result"
    }
   ],
   "source": [
    "neigh = KNeighborsClassifier()\n",
    "neigh.fit(X_train, y_train)\n",
    "y_pred = neigh.predict(X_test)\n",
    "metrics.accuracy_score(y_test, y_pred)"
   ]
  }
 ],
 "metadata": {
  "kernelspec": {
   "display_name": "Python 3 (ipykernel)",
   "language": "python",
   "name": "python3"
  },
  "language_info": {
   "codemirror_mode": {
    "name": "ipython",
    "version": 3
   },
   "file_extension": ".py",
   "mimetype": "text/x-python",
   "name": "python",
   "nbconvert_exporter": "python",
   "pygments_lexer": "ipython3",
   "version": "3.9.7"
  }
 },
 "nbformat": 4,
 "nbformat_minor": 5
}
