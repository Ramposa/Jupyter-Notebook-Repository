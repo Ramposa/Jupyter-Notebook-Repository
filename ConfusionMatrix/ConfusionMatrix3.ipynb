{
 "cells": [
  {
   "cell_type": "code",
   "execution_count": 1,
   "id": "8ba0656e",
   "metadata": {},
   "outputs": [],
   "source": [
    "from sklearn.metrics import confusion_matrix"
   ]
  },
  {
   "cell_type": "code",
   "execution_count": 52,
   "id": "0bbe6cde",
   "metadata": {},
   "outputs": [],
   "source": [
    "#y_true = [\"FALL\",\"FALL\",\"FALL\",\"ADL\",\"FALL\",\"FALL\",\"FALL\",\"ADL\",\"FALL\",\"FALL\",\"ADL\",\"ADL\",\"FALL\",\"FALL\",\"ADL\",\"ADL\",\"ADL\",\"FALL\",\"ADL\",\"ADL\"]\n",
    "#y_pred = [\"FALL\",\"FALL\",\"FALL\",\"FALL\",\"FALL\",\"FALL\",\"FALL\",\"FALL\",\"FALL\",\"FALL\",\"ADL\",\"ADL\",\"ADL\",\"ADL\",\"ADL\",\"ADL\",\"ADL\",\"ADL\",\"ADL\",\"ADL\"]\n",
    "y_true = [\"FALL\",\"FALL\",\"FALL\",\"ADL\",\"FALL\",\"FALL\",\"FALL\",\"FALL\",\"FALL\",\"FALL\",\"FALL\",\"FALL\",\"ADL\",\"FALL\",\"FALL\",\"FALL\",\"FALL\",\"ADL\",\"FALL\",\"FALL\",]\n",
    "y_pred = [\"FALL\",\"FALL\",\"FALL\",\"ADL\",\"FALL\",\"FALL\",\"FALL\",\"FALL\",\"ADL\",\"FALL\",\"FALL\",\"FALL\",\"FALL\",\"ADL\",\"FALL\",\"FALL\",\"FALL\",\"FALL\",\"ADL\",\"FALL\",]"
   ]
  },
  {
   "cell_type": "code",
   "execution_count": 55,
   "id": "e3234e26",
   "metadata": {},
   "outputs": [
    {
     "data": {
      "text/plain": [
       "array([[14,  3],\n",
       "       [ 2,  1]], dtype=int64)"
      ]
     },
     "execution_count": 55,
     "metadata": {},
     "output_type": "execute_result"
    }
   ],
   "source": [
    "confusion_matrix(y_true, y_pred, labels=[\"FALL\", \"ADL\"])"
   ]
  },
  {
   "cell_type": "code",
   "execution_count": null,
   "id": "2a301638",
   "metadata": {},
   "outputs": [],
   "source": []
  }
 ],
 "metadata": {
  "kernelspec": {
   "display_name": "Python 3 (ipykernel)",
   "language": "python",
   "name": "python3"
  },
  "language_info": {
   "codemirror_mode": {
    "name": "ipython",
    "version": 3
   },
   "file_extension": ".py",
   "mimetype": "text/x-python",
   "name": "python",
   "nbconvert_exporter": "python",
   "pygments_lexer": "ipython3",
   "version": "3.9.7"
  }
 },
 "nbformat": 4,
 "nbformat_minor": 5
}
