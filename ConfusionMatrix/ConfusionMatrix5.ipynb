{
 "cells": [
  {
   "cell_type": "code",
   "execution_count": 21,
   "id": "abf5b2f4",
   "metadata": {},
   "outputs": [],
   "source": [
    "import matplotlib.pyplot as plt\n",
    "from sklearn.metrics import confusion_matrix, ConfusionMatrixDisplay\n",
    "import seaborn as sns"
   ]
  },
  {
   "cell_type": "code",
   "execution_count": 22,
   "id": "e23cc3ce",
   "metadata": {},
   "outputs": [],
   "source": [
    "actual_data= [\n",
    "    \"FALL\", \"FALL\", \"ADL\", \"FALL\", \"FALL\", \n",
    "    \"FALL\", \"ADL\", \"FALL\", \"FALL\", \"FALL\", \n",
    "    \"ADL\", \"FALL\", \"FALL\", \"FALL\", \"FALL\", \n",
    "    \"ADL\", \"FALL\", \"FALL\", \"ADL\", \"FALL\" \n",
    "]"
   ]
  },
  {
   "cell_type": "code",
   "execution_count": 23,
   "id": "f24c73d4",
   "metadata": {},
   "outputs": [],
   "source": [
    "predicted_data = [\n",
    "    \"FALL\", \"FALL\", \"ADL\", \"FALL\", \"FALL\", \n",
    "    \"FALL\", \"FALL\", \"FALL\", \"FALL\", \"FALL\",\n",
    "    \"ADL\", \"FALL\", \"FALL\", \"FALL\", \"FALL\",\n",
    "    \"ADL\", \"FALL\", \"FALL\", \"ADL\", \"FALL\"\n",
    "]"
   ]
  },
  {
   "cell_type": "code",
   "execution_count": 24,
   "id": "634658f2",
   "metadata": {
    "scrolled": true
   },
   "outputs": [
    {
     "name": "stdout",
     "output_type": "stream",
     "text": [
      "[[ 4  1]\n",
      " [ 0 15]]\n"
     ]
    }
   ],
   "source": [
    "cm = confusion_matrix(actual_data, predicted_data)\n",
    "print(cm)"
   ]
  },
  {
   "cell_type": "code",
   "execution_count": 37,
   "id": "5dea91bf",
   "metadata": {},
   "outputs": [
    {
     "data": {
      "text/plain": [
       "[Text(0.5, 1.0, 'Falls vs System Detection'),\n",
       " Text(0.5, 17.200000000000003, 'Predicted Falls'),\n",
       " Text(17.200000000000003, 0.5, 'Actual Falls')]"
      ]
     },
     "execution_count": 37,
     "metadata": {},
     "output_type": "execute_result"
    }
   ],
   "source": [
    "cmd_obj.ax_.set(title='Falls vs System Detection',\n"
   ]
  },
  {
   "cell_type": "code",
   "execution_count": 39,
   "id": "f2ff6bcc",
   "metadata": {},
   "outputs": [
    {
     "data": {
      "text/plain": [
       "<sklearn.metrics._plot.confusion_matrix.ConfusionMatrixDisplay at 0x25184adc430>"
      ]
     },
     "execution_count": 39,
     "metadata": {},
     "output_type": "execute_result"
    },
    {
     "data": {
      "image/png": "[encoded data removed]",
      "text/plain": [
       "<Figure size 432x288 with 2 Axes>"
      ]
     },
     "metadata": {
      "needs_background": "light"
     },
     "output_type": "display_data"
    }
   ],
   "source": [
    "cmd_obj.plot()"
   ]
  },
  {
   "cell_type": "code",
   "execution_count": 34,
   "id": "e0104dd0",
   "metadata": {},
   "outputs": [],
   "source": [
    "#ax = sns.heatmap(cm, annot=True, fat='g');"
   ]
  },
  {
   "cell_type": "code",
   "execution_count": 35,
   "id": "f05254dd",
   "metadata": {},
   "outputs": [
    {
     "data": {
      "text/plain": [
       "[Text(0.5, 1.0, 'Falls vs System Detection'),\n",
       " Text(0.5, 17.200000000000003, 'Predicted Falls'),\n",
       " Text(17.200000000000003, 0.5, 'Actual Falls')]"
      ]
     },
     "execution_count": 35,
     "metadata": {},
     "output_type": "execute_result"
    }
   ],
   "source": [
    "cmd_obj.ax_.set(title='Falls vs System Detection',\n",
    "    xlabel='Predicted Falls',\n",
    "    ylabel='Actual Falls')"
   ]
  },
  {
   "cell_type": "code",
   "execution_count": 36,
   "id": "2da1f528",
   "metadata": {},
   "outputs": [],
   "source": [
    "plt.show()"
   ]
  },
  {
   "cell_type": "code",
   "execution_count": 32,
   "id": "3e5c0e00",
   "metadata": {},
   "outputs": [
    {
     "ename": "NameError",
     "evalue": "name 'ax' is not defined",
     "output_type": "error",
     "traceback": [
      "\u001b[1;31m---------------------------------------------------------------------------\u001b[0m",
      "\u001b[1;31mNameError\u001b[0m                                 Traceback (most recent call last)",
      "\u001b[1;32m~\\AppData\\Local\\Temp/ipykernel_4668/3257853561.py\u001b[0m in \u001b[0;36m<module>\u001b[1;34m\u001b[0m\n\u001b[1;32m----> 1\u001b[1;33m \u001b[0max\u001b[0m\u001b[1;33m.\u001b[0m\u001b[0mset_title\u001b[0m\u001b[1;33m(\u001b[0m\u001b[1;34m'Seaborn Confusion Matrix'\u001b[0m\u001b[1;33m)\u001b[0m\u001b[1;33m;\u001b[0m\u001b[1;33m\u001b[0m\u001b[1;33m\u001b[0m\u001b[0m\n\u001b[0m\u001b[0;32m      2\u001b[0m \u001b[0max\u001b[0m\u001b[1;33m.\u001b[0m\u001b[0mset_xlabel\u001b[0m\u001b[1;33m(\u001b[0m\u001b[1;34m'Predicted Falls'\u001b[0m\u001b[1;33m)\u001b[0m\u001b[1;33m;\u001b[0m\u001b[1;33m\u001b[0m\u001b[1;33m\u001b[0m\u001b[0m\n\u001b[0;32m      3\u001b[0m \u001b[0max\u001b[0m\u001b[1;33m.\u001b[0m\u001b[0mset_ylabel\u001b[0m\u001b[1;33m(\u001b[0m\u001b[1;34m'Actual Falls'\u001b[0m\u001b[1;33m)\u001b[0m\u001b[1;33m;\u001b[0m\u001b[1;33m\u001b[0m\u001b[1;33m\u001b[0m\u001b[0m\n\u001b[0;32m      4\u001b[0m \u001b[0max\u001b[0m\u001b[1;33m.\u001b[0m\u001b[0mxaxis\u001b[0m\u001b[1;33m.\u001b[0m\u001b[0mset_ticklables\u001b[0m\u001b[1;33m(\u001b[0m\u001b[1;33m[\u001b[0m\u001b[1;34m'Falls'\u001b[0m\u001b[1;33m]\u001b[0m\u001b[1;33m)\u001b[0m\u001b[1;33m\u001b[0m\u001b[1;33m\u001b[0m\u001b[0m\n\u001b[0;32m      5\u001b[0m \u001b[0max\u001b[0m\u001b[1;33m.\u001b[0m\u001b[0myaxis\u001b[0m\u001b[1;33m.\u001b[0m\u001b[0mset_ticklables\u001b[0m\u001b[1;33m(\u001b[0m\u001b[1;33m[\u001b[0m\u001b[1;34m'ADLs'\u001b[0m\u001b[1;33m]\u001b[0m\u001b[1;33m)\u001b[0m\u001b[1;33m\u001b[0m\u001b[1;33m\u001b[0m\u001b[0m\n",
      "\u001b[1;31mNameError\u001b[0m: name 'ax' is not defined"
     ]
    }
   ],
   "source": [
    "ax.set_title('Seaborn Confusion Matrix');\n",
    "ax.set_xlabel('Predicted Falls');\n",
    "ax.set_ylabel('Actual Falls');\n",
    "ax.xaxis.set_ticklables(['Falls'])\n",
    "ax.yaxis.set_ticklables(['ADLs'])"
   ]
  },
  {
   "cell_type": "code",
   "execution_count": null,
   "id": "08ce8dc9",
   "metadata": {},
   "outputs": [],
   "source": [
    "plt.show()"
   ]
  }
 ],
 "metadata": {
  "kernelspec": {
   "display_name": "Python 3 (ipykernel)",
   "language": "python",
   "name": "python3"
  },
  "language_info": {
   "codemirror_mode": {
    "name": "ipython",
    "version": 3
   },
   "file_extension": ".py",
   "mimetype": "text/x-python",
   "name": "python",
   "nbconvert_exporter": "python",
   "pygments_lexer": "ipython3",
   "version": "3.9.7"
  }
 },
 "nbformat": 4,
 "nbformat_minor": 5
}
