{
 "cells": [
  {
   "cell_type": "code",
   "execution_count": 1,
   "id": "179d7d13",
   "metadata": {},
   "outputs": [],
   "source": [
    "import numpy as np\n",
    "import matplotlib\n",
    "import matplotlib.pyplot as plt\n",
    "import pandas as pd\n",
    "\n",
    "np_data=pd.read_csv('national_parks.csv')"
   ]
  },
  {
   "cell_type": "code",
   "execution_count": 3,
   "id": "aed25f17",
   "metadata": {
    "scrolled": true
   },
   "outputs": [
    {
     "data": {
      "image/png": "[encoded data removed]",
      "text/plain": [
       "<Figure size 432x288 with 1 Axes>"
      ]
     },
     "metadata": {
      "needs_background": "light"
     },
     "output_type": "display_data"
    }
   ],
   "source": [
    "plt.hist(np_data['GrandCanyon'], # Plot histogrand from catagory 'GrandCanyon'\n",
    "        facecolor='peru',\n",
    "        edgecolor='blue',\n",
    "        bins=10)\n",
    "plt.show()"
   ]
  },
  {
   "cell_type": "code",
   "execution_count": 4,
   "id": "b20278ce",
   "metadata": {},
   "outputs": [
    {
     "name": "stdout",
     "output_type": "stream",
     "text": [
      "n:  [ 5.  9. 10.  2.  1.  9. 16.  2.  1.  2.]\n",
      "bins:  [1253000.  1753123.8 2253247.6 2753371.4 3253495.2 3753619.  4253742.8\n",
      " 4753866.6 5253990.4 5754114.2 6254238. ]\n",
      "patches:  <BarContainer object of 10 artists>\n"
     ]
    },
    {
     "data": {
      "image/png": "[encoded data removed]",
      "text/plain": [
       "<Figure size 432x288 with 1 Axes>"
      ]
     },
     "metadata": {
      "needs_background": "light"
     },
     "output_type": "display_data"
    }
   ],
   "source": [
    "n, bins, patches = plt.hist(np_data['GrandCanyon'],\n",
    "                           facecolor='peru',\n",
    "                           edgecolor='blue',\n",
    "                           bins=10)\n",
    "\n",
    "print('n: ', n) # n: containts the freuqncy of each bin.\n",
    "print('bins: ', bins) # bins: epresent the middle value of each bin\n",
    "print('patches: ', patches) # Patch object of the rectangler shape represent each bar/."
   ]
  },
  {
   "cell_type": "code",
   "execution_count": 7,
   "id": "7b23534d",
   "metadata": {},
   "outputs": [
    {
     "data": {
      "image/png": "[encoded data removed]",
      "text/plain": [
       "<Figure size 432x288 with 1 Axes>"
      ]
     },
     "metadata": {
      "needs_background": "light"
     },
     "output_type": "display_data"
    }
   ],
   "source": [
    "plt.hist(np_data['GrandCanyon'],\n",
    "        facecolor='peru',\n",
    "        edgecolor='blue',\n",
    "        bins=10,\n",
    "        cumulative=True)\n",
    "\n",
    "plt.show()\n",
    "# Cumulative property give the end added value helps to understand each increase in value of each bin."
   ]
  },
  {
   "cell_type": "code",
   "execution_count": 8,
   "id": "1f02f973",
   "metadata": {},
   "outputs": [
    {
     "data": {
      "image/png": "[encoded data removed]",
      "text/plain": [
       "<Figure size 432x288 with 1 Axes>"
      ]
     },
     "metadata": {
      "needs_background": "light"
     },
     "output_type": "display_data"
    }
   ],
   "source": [
    "plt.hist(np_data['GrandCanyon'],\n",
    "        facecolor='peru',\n",
    "        edgecolor='blue',\n",
    "        bins=10,\n",
    "        range=(2000000, 5000000))\n",
    "\n",
    "plt.show()\n",
    "# Range helps us in understanding value distribution between specified values."
   ]
  },
  {
   "cell_type": "code",
   "execution_count": null,
   "id": "14fea461",
   "metadata": {},
   "outputs": [],
   "source": [
    "plt.hist(np_data['GrandCanyon'],\n",
    "        facecolor='peru',\n",
    "        edgecolor='blue',\n",
    "        bins=10)\n",
    "plt.hist(np_data['B'],\n",
    "        facecolor='red',\n",
    "        edgecolor='yellow',\n",
    "        bins=10)\n",
    "\n",
    "plt.show()\n",
    "# Show multiple Historams"
   ]
  }
 ],
 "metadata": {
  "kernelspec": {
   "display_name": "Python 3 (ipykernel)",
   "language": "python",
   "name": "python3"
  },
  "language_info": {
   "codemirror_mode": {
    "name": "ipython",
    "version": 3
   },
   "file_extension": ".py",
   "mimetype": "text/x-python",
   "name": "python",
   "nbconvert_exporter": "python",
   "pygments_lexer": "ipython3",
   "version": "3.9.7"
  }
 },
 "nbformat": 4,
 "nbformat_minor": 5
}
