{
 "cells": [
  {
   "cell_type": "code",
   "execution_count": 1,
   "id": "c45b56c5",
   "metadata": {},
   "outputs": [],
   "source": [
    "%matplotlib inline\n",
    "import pandas as pd\n",
    "import matplotlib.pyplot as plt\n",
    "import seaborn as sns\n",
    "sns.set(style=\"darkgrid\")\n",
    "\n",
    "df = pd.read_csv('Fortune500.csv')\n",
    "# Question 12-17"
   ]
  },
  {
   "cell_type": "code",
   "execution_count": 3,
   "id": "f195be69",
   "metadata": {},
   "outputs": [
    {
     "data": {
      "text/html": [
       "<div>\n",
       "<style scoped>\n",
       "    .dataframe tbody tr th:only-of-type {\n",
       "        vertical-align: middle;\n",
       "    }\n",
       "\n",
       "    .dataframe tbody tr th {\n",
       "        vertical-align: top;\n",
       "    }\n",
       "\n",
       "    .dataframe thead th {\n",
       "        text-align: right;\n",
       "    }\n",
       "</style>\n",
       "<table border=\"1\" class=\"dataframe\">\n",
       "  <thead>\n",
       "    <tr style=\"text-align: right;\">\n",
       "      <th></th>\n",
       "      <th>Year</th>\n",
       "      <th>Rank</th>\n",
       "      <th>Company</th>\n",
       "      <th>Revenue (in millions)</th>\n",
       "      <th>Profit (in millions)</th>\n",
       "    </tr>\n",
       "  </thead>\n",
       "  <tbody>\n",
       "    <tr>\n",
       "      <th>0</th>\n",
       "      <td>1955</td>\n",
       "      <td>1</td>\n",
       "      <td>General Motors</td>\n",
       "      <td>9823.5</td>\n",
       "      <td>806</td>\n",
       "    </tr>\n",
       "    <tr>\n",
       "      <th>1</th>\n",
       "      <td>1955</td>\n",
       "      <td>2</td>\n",
       "      <td>Exxon Mobil</td>\n",
       "      <td>5661.4</td>\n",
       "      <td>584.8</td>\n",
       "    </tr>\n",
       "    <tr>\n",
       "      <th>2</th>\n",
       "      <td>1955</td>\n",
       "      <td>3</td>\n",
       "      <td>U.S. Steel</td>\n",
       "      <td>3250.4</td>\n",
       "      <td>195.4</td>\n",
       "    </tr>\n",
       "    <tr>\n",
       "      <th>3</th>\n",
       "      <td>1955</td>\n",
       "      <td>4</td>\n",
       "      <td>General Electric</td>\n",
       "      <td>2959.1</td>\n",
       "      <td>212.6</td>\n",
       "    </tr>\n",
       "    <tr>\n",
       "      <th>4</th>\n",
       "      <td>1955</td>\n",
       "      <td>5</td>\n",
       "      <td>Esmark</td>\n",
       "      <td>2510.8</td>\n",
       "      <td>19.1</td>\n",
       "    </tr>\n",
       "  </tbody>\n",
       "</table>\n",
       "</div>"
      ],
      "text/plain": [
       "   Year  Rank           Company  Revenue (in millions) Profit (in millions)\n",
       "0  1955     1    General Motors                 9823.5                  806\n",
       "1  1955     2       Exxon Mobil                 5661.4                584.8\n",
       "2  1955     3        U.S. Steel                 3250.4                195.4\n",
       "3  1955     4  General Electric                 2959.1                212.6\n",
       "4  1955     5            Esmark                 2510.8                 19.1"
      ]
     },
     "execution_count": 3,
     "metadata": {},
     "output_type": "execute_result"
    }
   ],
   "source": [
    "df.head()"
   ]
  },
  {
   "cell_type": "code",
   "execution_count": 4,
   "id": "476b4f59",
   "metadata": {},
   "outputs": [
    {
     "data": {
      "text/plain": [
       "25500"
      ]
     },
     "execution_count": 4,
     "metadata": {},
     "output_type": "execute_result"
    }
   ],
   "source": [
    "len(df)"
   ]
  },
  {
   "cell_type": "code",
   "execution_count": 5,
   "id": "338ff291",
   "metadata": {},
   "outputs": [
    {
     "data": {
      "text/html": [
       "<div>\n",
       "<style scoped>\n",
       "    .dataframe tbody tr th:only-of-type {\n",
       "        vertical-align: middle;\n",
       "    }\n",
       "\n",
       "    .dataframe tbody tr th {\n",
       "        vertical-align: top;\n",
       "    }\n",
       "\n",
       "    .dataframe thead th {\n",
       "        text-align: right;\n",
       "    }\n",
       "</style>\n",
       "<table border=\"1\" class=\"dataframe\">\n",
       "  <thead>\n",
       "    <tr style=\"text-align: right;\">\n",
       "      <th></th>\n",
       "      <th>Year</th>\n",
       "      <th>Rank</th>\n",
       "      <th>Company</th>\n",
       "      <th>Revenue (in millions)</th>\n",
       "      <th>Profit (in millions)</th>\n",
       "    </tr>\n",
       "  </thead>\n",
       "  <tbody>\n",
       "    <tr>\n",
       "      <th>100</th>\n",
       "      <td>1955</td>\n",
       "      <td>101</td>\n",
       "      <td>United Merchants &amp; Mfrs.</td>\n",
       "      <td>300.1</td>\n",
       "      <td>9.2</td>\n",
       "    </tr>\n",
       "    <tr>\n",
       "      <th>101</th>\n",
       "      <td>1955</td>\n",
       "      <td>102</td>\n",
       "      <td>Crane</td>\n",
       "      <td>299.8</td>\n",
       "      <td>5.8</td>\n",
       "    </tr>\n",
       "    <tr>\n",
       "      <th>102</th>\n",
       "      <td>1955</td>\n",
       "      <td>103</td>\n",
       "      <td>Crown Zellerbach</td>\n",
       "      <td>298.0</td>\n",
       "      <td>26.8</td>\n",
       "    </tr>\n",
       "    <tr>\n",
       "      <th>103</th>\n",
       "      <td>1955</td>\n",
       "      <td>104</td>\n",
       "      <td>Deere</td>\n",
       "      <td>295.6</td>\n",
       "      <td>20.6</td>\n",
       "    </tr>\n",
       "    <tr>\n",
       "      <th>104</th>\n",
       "      <td>1955</td>\n",
       "      <td>105</td>\n",
       "      <td>Liggett Group</td>\n",
       "      <td>294.1</td>\n",
       "      <td>22.2</td>\n",
       "    </tr>\n",
       "    <tr>\n",
       "      <th>105</th>\n",
       "      <td>1955</td>\n",
       "      <td>106</td>\n",
       "      <td>Sylvania Electric Products</td>\n",
       "      <td>281.6</td>\n",
       "      <td>9.5</td>\n",
       "    </tr>\n",
       "    <tr>\n",
       "      <th>106</th>\n",
       "      <td>1955</td>\n",
       "      <td>107</td>\n",
       "      <td>J.P. Stevens</td>\n",
       "      <td>277.6</td>\n",
       "      <td>3.6</td>\n",
       "    </tr>\n",
       "    <tr>\n",
       "      <th>107</th>\n",
       "      <td>1955</td>\n",
       "      <td>108</td>\n",
       "      <td>Phelps Dodge</td>\n",
       "      <td>277.1</td>\n",
       "      <td>41.2</td>\n",
       "    </tr>\n",
       "    <tr>\n",
       "      <th>108</th>\n",
       "      <td>1955</td>\n",
       "      <td>109</td>\n",
       "      <td>Beatrice</td>\n",
       "      <td>275.0</td>\n",
       "      <td>4.8</td>\n",
       "    </tr>\n",
       "    <tr>\n",
       "      <th>109</th>\n",
       "      <td>1955</td>\n",
       "      <td>110</td>\n",
       "      <td>Rath Packing</td>\n",
       "      <td>273.6</td>\n",
       "      <td>1.4</td>\n",
       "    </tr>\n",
       "    <tr>\n",
       "      <th>110</th>\n",
       "      <td>1955</td>\n",
       "      <td>111</td>\n",
       "      <td>Martin Marietta</td>\n",
       "      <td>270.7</td>\n",
       "      <td>20.1</td>\n",
       "    </tr>\n",
       "    <tr>\n",
       "      <th>111</th>\n",
       "      <td>1955</td>\n",
       "      <td>112</td>\n",
       "      <td>TRW</td>\n",
       "      <td>269.0</td>\n",
       "      <td>11.7</td>\n",
       "    </tr>\n",
       "    <tr>\n",
       "      <th>112</th>\n",
       "      <td>1955</td>\n",
       "      <td>113</td>\n",
       "      <td>Quaker Oats</td>\n",
       "      <td>266.1</td>\n",
       "      <td>8.9</td>\n",
       "    </tr>\n",
       "    <tr>\n",
       "      <th>113</th>\n",
       "      <td>1955</td>\n",
       "      <td>114</td>\n",
       "      <td>Weyerhaeuser</td>\n",
       "      <td>262.5</td>\n",
       "      <td>35.5</td>\n",
       "    </tr>\n",
       "    <tr>\n",
       "      <th>114</th>\n",
       "      <td>1955</td>\n",
       "      <td>115</td>\n",
       "      <td>Colgate-Palmolive</td>\n",
       "      <td>261.8</td>\n",
       "      <td>12.5</td>\n",
       "    </tr>\n",
       "    <tr>\n",
       "      <th>115</th>\n",
       "      <td>1955</td>\n",
       "      <td>116</td>\n",
       "      <td>NCR</td>\n",
       "      <td>259.1</td>\n",
       "      <td>12.7</td>\n",
       "    </tr>\n",
       "    <tr>\n",
       "      <th>116</th>\n",
       "      <td>1955</td>\n",
       "      <td>117</td>\n",
       "      <td>Manville</td>\n",
       "      <td>253.2</td>\n",
       "      <td>16.7</td>\n",
       "    </tr>\n",
       "    <tr>\n",
       "      <th>117</th>\n",
       "      <td>1955</td>\n",
       "      <td>118</td>\n",
       "      <td>Babcock &amp; Wilcox</td>\n",
       "      <td>250.5</td>\n",
       "      <td>15.2</td>\n",
       "    </tr>\n",
       "    <tr>\n",
       "      <th>118</th>\n",
       "      <td>1955</td>\n",
       "      <td>119</td>\n",
       "      <td>CF&amp;I Steel</td>\n",
       "      <td>250.2</td>\n",
       "      <td>7.1</td>\n",
       "    </tr>\n",
       "    <tr>\n",
       "      <th>119</th>\n",
       "      <td>1955</td>\n",
       "      <td>120</td>\n",
       "      <td>A.O. Smith</td>\n",
       "      <td>249.6</td>\n",
       "      <td>5.4</td>\n",
       "    </tr>\n",
       "    <tr>\n",
       "      <th>120</th>\n",
       "      <td>1955</td>\n",
       "      <td>121</td>\n",
       "      <td>Marathon Oil</td>\n",
       "      <td>248.5</td>\n",
       "      <td>38.2</td>\n",
       "    </tr>\n",
       "    <tr>\n",
       "      <th>121</th>\n",
       "      <td>1955</td>\n",
       "      <td>122</td>\n",
       "      <td>Foremost Dairies</td>\n",
       "      <td>247.4</td>\n",
       "      <td>6.1</td>\n",
       "    </tr>\n",
       "    <tr>\n",
       "      <th>122</th>\n",
       "      <td>1955</td>\n",
       "      <td>123</td>\n",
       "      <td>Furniture Brands Intl.</td>\n",
       "      <td>246.8</td>\n",
       "      <td>10.2</td>\n",
       "    </tr>\n",
       "    <tr>\n",
       "      <th>123</th>\n",
       "      <td>1955</td>\n",
       "      <td>124</td>\n",
       "      <td>ACF Industries</td>\n",
       "      <td>245.1</td>\n",
       "      <td>7.8</td>\n",
       "    </tr>\n",
       "    <tr>\n",
       "      <th>124</th>\n",
       "      <td>1955</td>\n",
       "      <td>125</td>\n",
       "      <td>Otis Elevator</td>\n",
       "      <td>244.0</td>\n",
       "      <td>6.3</td>\n",
       "    </tr>\n",
       "    <tr>\n",
       "      <th>125</th>\n",
       "      <td>1955</td>\n",
       "      <td>126</td>\n",
       "      <td>Coca-Cola</td>\n",
       "      <td>243.3</td>\n",
       "      <td>25.9</td>\n",
       "    </tr>\n",
       "  </tbody>\n",
       "</table>\n",
       "</div>"
      ],
      "text/plain": [
       "     Year  Rank                     Company  Revenue (in millions)  \\\n",
       "100  1955   101    United Merchants & Mfrs.                  300.1   \n",
       "101  1955   102                       Crane                  299.8   \n",
       "102  1955   103            Crown Zellerbach                  298.0   \n",
       "103  1955   104                       Deere                  295.6   \n",
       "104  1955   105               Liggett Group                  294.1   \n",
       "105  1955   106  Sylvania Electric Products                  281.6   \n",
       "106  1955   107                J.P. Stevens                  277.6   \n",
       "107  1955   108                Phelps Dodge                  277.1   \n",
       "108  1955   109                    Beatrice                  275.0   \n",
       "109  1955   110                Rath Packing                  273.6   \n",
       "110  1955   111             Martin Marietta                  270.7   \n",
       "111  1955   112                         TRW                  269.0   \n",
       "112  1955   113                 Quaker Oats                  266.1   \n",
       "113  1955   114                Weyerhaeuser                  262.5   \n",
       "114  1955   115           Colgate-Palmolive                  261.8   \n",
       "115  1955   116                         NCR                  259.1   \n",
       "116  1955   117                    Manville                  253.2   \n",
       "117  1955   118            Babcock & Wilcox                  250.5   \n",
       "118  1955   119                  CF&I Steel                  250.2   \n",
       "119  1955   120                  A.O. Smith                  249.6   \n",
       "120  1955   121                Marathon Oil                  248.5   \n",
       "121  1955   122            Foremost Dairies                  247.4   \n",
       "122  1955   123      Furniture Brands Intl.                  246.8   \n",
       "123  1955   124              ACF Industries                  245.1   \n",
       "124  1955   125               Otis Elevator                  244.0   \n",
       "125  1955   126                   Coca-Cola                  243.3   \n",
       "\n",
       "    Profit (in millions)  \n",
       "100                  9.2  \n",
       "101                  5.8  \n",
       "102                 26.8  \n",
       "103                 20.6  \n",
       "104                 22.2  \n",
       "105                  9.5  \n",
       "106                  3.6  \n",
       "107                 41.2  \n",
       "108                  4.8  \n",
       "109                  1.4  \n",
       "110                 20.1  \n",
       "111                 11.7  \n",
       "112                  8.9  \n",
       "113                 35.5  \n",
       "114                 12.5  \n",
       "115                 12.7  \n",
       "116                 16.7  \n",
       "117                 15.2  \n",
       "118                  7.1  \n",
       "119                  5.4  \n",
       "120                 38.2  \n",
       "121                  6.1  \n",
       "122                 10.2  \n",
       "123                  7.8  \n",
       "124                  6.3  \n",
       "125                 25.9  "
      ]
     },
     "execution_count": 5,
     "metadata": {},
     "output_type": "execute_result"
    }
   ],
   "source": [
    "df.loc[100:125]"
   ]
  },
  {
   "cell_type": "code",
   "execution_count": 6,
   "id": "a1d8a9d9",
   "metadata": {},
   "outputs": [
    {
     "data": {
      "text/plain": [
       "100      United Merchants & Mfrs.\n",
       "101                         Crane\n",
       "102              Crown Zellerbach\n",
       "103                         Deere\n",
       "104                 Liggett Group\n",
       "105    Sylvania Electric Products\n",
       "106                  J.P. Stevens\n",
       "107                  Phelps Dodge\n",
       "108                      Beatrice\n",
       "109                  Rath Packing\n",
       "110               Martin Marietta\n",
       "111                           TRW\n",
       "112                   Quaker Oats\n",
       "113                  Weyerhaeuser\n",
       "114             Colgate-Palmolive\n",
       "115                           NCR\n",
       "116                      Manville\n",
       "117              Babcock & Wilcox\n",
       "118                    CF&I Steel\n",
       "119                    A.O. Smith\n",
       "120                  Marathon Oil\n",
       "121              Foremost Dairies\n",
       "122        Furniture Brands Intl.\n",
       "123                ACF Industries\n",
       "124                 Otis Elevator\n",
       "Name: Company, dtype: object"
      ]
     },
     "execution_count": 6,
     "metadata": {},
     "output_type": "execute_result"
    }
   ],
   "source": [
    "df['Company'][100:125]"
   ]
  },
  {
   "cell_type": "code",
   "execution_count": 9,
   "id": "442c9ec9",
   "metadata": {},
   "outputs": [
    {
     "data": {
      "text/plain": [
       "<AxesSubplot:>"
      ]
     },
     "execution_count": 9,
     "metadata": {},
     "output_type": "execute_result"
    },
    {
     "data": {
      "image/png": "[encoded data removed]",
      "text/plain": [
       "<Figure size 432x288 with 1 Axes>"
      ]
     },
     "metadata": {
      "needs_background": "light"
     },
     "output_type": "display_data"
    }
   ],
   "source": [
    "%matplotlib inline\n",
    "\n",
    "df.loc[:,['Revenue (in millions)']].mean().plot(kind='bar')"
   ]
  },
  {
   "cell_type": "code",
   "execution_count": 10,
   "id": "a8d2a2f7",
   "metadata": {},
   "outputs": [
    {
     "data": {
      "text/plain": [
       "Revenue (in millions)    4273.329635\n",
       "dtype: float64"
      ]
     },
     "execution_count": 10,
     "metadata": {},
     "output_type": "execute_result"
    }
   ],
   "source": [
    "%matplotlib inline\n",
    "\n",
    "df.loc[:,['Revenue (in millions)']].mean()"
   ]
  },
  {
   "cell_type": "code",
   "execution_count": 11,
   "id": "6873db83",
   "metadata": {},
   "outputs": [
    {
     "data": {
      "text/html": [
       "<div>\n",
       "<style scoped>\n",
       "    .dataframe tbody tr th:only-of-type {\n",
       "        vertical-align: middle;\n",
       "    }\n",
       "\n",
       "    .dataframe tbody tr th {\n",
       "        vertical-align: top;\n",
       "    }\n",
       "\n",
       "    .dataframe thead th {\n",
       "        text-align: right;\n",
       "    }\n",
       "</style>\n",
       "<table border=\"1\" class=\"dataframe\">\n",
       "  <thead>\n",
       "    <tr style=\"text-align: right;\">\n",
       "      <th></th>\n",
       "      <th>Year</th>\n",
       "      <th>Rank</th>\n",
       "      <th>Revenue (in millions)</th>\n",
       "    </tr>\n",
       "  </thead>\n",
       "  <tbody>\n",
       "    <tr>\n",
       "      <th>Year</th>\n",
       "      <td>1.000000</td>\n",
       "      <td>-0.000002</td>\n",
       "      <td>0.362673</td>\n",
       "    </tr>\n",
       "    <tr>\n",
       "      <th>Rank</th>\n",
       "      <td>-0.000002</td>\n",
       "      <td>1.000000</td>\n",
       "      <td>-0.362404</td>\n",
       "    </tr>\n",
       "    <tr>\n",
       "      <th>Revenue (in millions)</th>\n",
       "      <td>0.362673</td>\n",
       "      <td>-0.362404</td>\n",
       "      <td>1.000000</td>\n",
       "    </tr>\n",
       "  </tbody>\n",
       "</table>\n",
       "</div>"
      ],
      "text/plain": [
       "                           Year      Rank  Revenue (in millions)\n",
       "Year                   1.000000 -0.000002               0.362673\n",
       "Rank                  -0.000002  1.000000              -0.362404\n",
       "Revenue (in millions)  0.362673 -0.362404               1.000000"
      ]
     },
     "execution_count": 11,
     "metadata": {},
     "output_type": "execute_result"
    }
   ],
   "source": [
    "df.corr()"
   ]
  },
  {
   "cell_type": "code",
   "execution_count": 12,
   "id": "af303834",
   "metadata": {},
   "outputs": [
    {
     "data": {
      "text/plain": [
       "<AxesSubplot:>"
      ]
     },
     "execution_count": 12,
     "metadata": {},
     "output_type": "execute_result"
    },
    {
     "data": {
      "image/png": "[encoded data removed]",
      "text/plain": [
       "<Figure size 432x288 with 1 Axes>"
      ]
     },
     "metadata": {
      "needs_background": "light"
     },
     "output_type": "display_data"
    }
   ],
   "source": [
    "%matplotlib inline\n",
    "\n",
    "df.loc[:,['Rank']].mean().plot(kind='bar')"
   ]
  },
  {
   "cell_type": "code",
   "execution_count": 13,
   "id": "0094461d",
   "metadata": {},
   "outputs": [
    {
     "data": {
      "text/plain": [
       "<AxesSubplot:>"
      ]
     },
     "execution_count": 13,
     "metadata": {},
     "output_type": "execute_result"
    },
    {
     "data": {
      "image/png": "[encoded data removed]",
      "text/plain": [
       "<Figure size 432x288 with 1 Axes>"
      ]
     },
     "metadata": {
      "needs_background": "light"
     },
     "output_type": "display_data"
    }
   ],
   "source": [
    "%matplotlib inline\n",
    "\n",
    "df.loc[:,['Revenue (in millions)','Rank']].mean().plot(kind='bar')"
   ]
  },
  {
   "cell_type": "code",
   "execution_count": 14,
   "id": "7fc003c9",
   "metadata": {},
   "outputs": [
    {
     "data": {
      "text/plain": [
       "Revenue (in millions)    4273.329635\n",
       "Rank                      250.499765\n",
       "dtype: float64"
      ]
     },
     "execution_count": 14,
     "metadata": {},
     "output_type": "execute_result"
    }
   ],
   "source": [
    "%matplotlib inline\n",
    "\n",
    "df.loc[:,['Revenue (in millions)','Rank']].mean()"
   ]
  },
  {
   "cell_type": "code",
   "execution_count": null,
   "id": "fa8db168",
   "metadata": {},
   "outputs": [],
   "source": [
    "# Q17 "
   ]
  }
 ],
 "metadata": {
  "kernelspec": {
   "display_name": "Python 3 (ipykernel)",
   "language": "python",
   "name": "python3"
  },
  "language_info": {
   "codemirror_mode": {
    "name": "ipython",
    "version": 3
   },
   "file_extension": ".py",
   "mimetype": "text/x-python",
   "name": "python",
   "nbconvert_exporter": "python",
   "pygments_lexer": "ipython3",
   "version": "3.9.7"
  }
 },
 "nbformat": 4,
 "nbformat_minor": 5
}
